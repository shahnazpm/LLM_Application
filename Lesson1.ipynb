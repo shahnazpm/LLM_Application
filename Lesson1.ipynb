{
 "cells": [
  {
   "cell_type": "markdown",
   "id": "37f536b8-b660-4374-86b5-891abc6147f9",
   "metadata": {},
   "source": [
    "# Lesson 1: Llama 3 Basics"
   ]
  },
  {
   "cell_type": "markdown",
   "id": "84b952c0-826a-4ee6-90c8-32342542da81",
   "metadata": {},
   "source": [
    "> Note: You can access the `data` and `util` subdirectories used in the course. In Jupyter version 6, this is via the File>Open menu. In Jupyter version 7 this is in View> File Browser\n",
    "\n",
    "> Also note that as models and systems change, the output of the models may shift from the video content."
   ]
  },
  {
   "cell_type": "code",
   "execution_count": 19,
   "id": "3fb9c635-ca81-41f9-8805-514412c22384",
   "metadata": {
    "height": 47
   },
   "outputs": [],
   "source": [
    "from dotenv import load_dotenv\n",
    "_ = load_dotenv()   #load environmental variable LAMINI_API_KEY with key from .env file"
   ]
  },
  {
   "cell_type": "code",
   "execution_count": 5,
   "id": "e624d933-8a9b-418f-bffc-d6ebd08d763e",
   "metadata": {},
   "outputs": [
    {
     "name": "stdout",
     "output_type": "stream",
     "text": [
      "Collecting lamini\n",
      "  Downloading lamini-3.0.5-7-py3-none-any.whl.metadata (1.6 kB)\n",
      "Collecting lamini-configuration[yaml] (from lamini)\n",
      "  Downloading lamini_configuration-0.8.3-py3-none-any.whl.metadata (11 kB)\n",
      "Requirement already satisfied: requests in c:\\users\\admin\\anaconda3\\lib\\site-packages (from lamini) (2.32.2)\n",
      "Requirement already satisfied: tqdm in c:\\users\\admin\\anaconda3\\lib\\site-packages (from lamini) (4.66.4)\n",
      "Requirement already satisfied: numpy<2.0.0 in c:\\users\\admin\\anaconda3\\lib\\site-packages (from lamini) (1.26.4)\n",
      "Collecting jsonlines (from lamini)\n",
      "  Downloading jsonlines-4.0.0-py3-none-any.whl.metadata (1.6 kB)\n",
      "Requirement already satisfied: pandas in c:\\users\\admin\\anaconda3\\lib\\site-packages (from lamini) (2.2.2)\n",
      "Collecting azure-storage-blob (from lamini)\n",
      "  Downloading azure_storage_blob-12.22.0-py3-none-any.whl.metadata (26 kB)\n",
      "Requirement already satisfied: scikit-learn in c:\\users\\admin\\anaconda3\\lib\\site-packages (from lamini) (1.5.1)\n",
      "Requirement already satisfied: aiohttp in c:\\users\\admin\\anaconda3\\lib\\site-packages (from lamini) (3.9.5)\n",
      "Requirement already satisfied: aiosignal>=1.1.2 in c:\\users\\admin\\anaconda3\\lib\\site-packages (from aiohttp->lamini) (1.2.0)\n",
      "Requirement already satisfied: attrs>=17.3.0 in c:\\users\\admin\\anaconda3\\lib\\site-packages (from aiohttp->lamini) (23.1.0)\n",
      "Requirement already satisfied: frozenlist>=1.1.1 in c:\\users\\admin\\anaconda3\\lib\\site-packages (from aiohttp->lamini) (1.4.0)\n",
      "Requirement already satisfied: multidict<7.0,>=4.5 in c:\\users\\admin\\anaconda3\\lib\\site-packages (from aiohttp->lamini) (6.0.4)\n",
      "Requirement already satisfied: yarl<2.0,>=1.0 in c:\\users\\admin\\anaconda3\\lib\\site-packages (from aiohttp->lamini) (1.9.3)\n",
      "Collecting azure-core>=1.28.0 (from azure-storage-blob->lamini)\n",
      "  Downloading azure_core-1.30.2-py3-none-any.whl.metadata (37 kB)\n",
      "Requirement already satisfied: cryptography>=2.1.4 in c:\\users\\admin\\anaconda3\\lib\\site-packages (from azure-storage-blob->lamini) (42.0.5)\n",
      "Requirement already satisfied: typing-extensions>=4.6.0 in c:\\users\\admin\\anaconda3\\lib\\site-packages (from azure-storage-blob->lamini) (4.11.0)\n",
      "Collecting isodate>=0.6.1 (from azure-storage-blob->lamini)\n",
      "  Downloading isodate-0.6.1-py2.py3-none-any.whl.metadata (9.6 kB)\n",
      "Requirement already satisfied: pyyaml<7.0,>=6.0 in c:\\users\\admin\\anaconda3\\lib\\site-packages (from lamini-configuration[yaml]->lamini) (6.0.1)\n",
      "Requirement already satisfied: python-dateutil>=2.8.2 in c:\\users\\admin\\anaconda3\\lib\\site-packages (from pandas->lamini) (2.9.0.post0)\n",
      "Requirement already satisfied: pytz>=2020.1 in c:\\users\\admin\\anaconda3\\lib\\site-packages (from pandas->lamini) (2024.1)\n",
      "Requirement already satisfied: tzdata>=2022.7 in c:\\users\\admin\\anaconda3\\lib\\site-packages (from pandas->lamini) (2023.3)\n",
      "Requirement already satisfied: charset-normalizer<4,>=2 in c:\\users\\admin\\anaconda3\\lib\\site-packages (from requests->lamini) (2.0.4)\n",
      "Requirement already satisfied: idna<4,>=2.5 in c:\\users\\admin\\anaconda3\\lib\\site-packages (from requests->lamini) (3.7)\n",
      "Requirement already satisfied: urllib3<3,>=1.21.1 in c:\\users\\admin\\anaconda3\\lib\\site-packages (from requests->lamini) (2.2.2)\n",
      "Requirement already satisfied: certifi>=2017.4.17 in c:\\users\\admin\\anaconda3\\lib\\site-packages (from requests->lamini) (2024.7.4)\n",
      "Requirement already satisfied: scipy>=1.6.0 in c:\\users\\admin\\anaconda3\\lib\\site-packages (from scikit-learn->lamini) (1.13.1)\n",
      "Requirement already satisfied: joblib>=1.2.0 in c:\\users\\admin\\anaconda3\\lib\\site-packages (from scikit-learn->lamini) (1.4.2)\n",
      "Requirement already satisfied: threadpoolctl>=3.1.0 in c:\\users\\admin\\anaconda3\\lib\\site-packages (from scikit-learn->lamini) (3.5.0)\n",
      "Requirement already satisfied: colorama in c:\\users\\admin\\anaconda3\\lib\\site-packages (from tqdm->lamini) (0.4.6)\n",
      "Requirement already satisfied: six>=1.11.0 in c:\\users\\admin\\anaconda3\\lib\\site-packages (from azure-core>=1.28.0->azure-storage-blob->lamini) (1.16.0)\n",
      "Requirement already satisfied: cffi>=1.12 in c:\\users\\admin\\anaconda3\\lib\\site-packages (from cryptography>=2.1.4->azure-storage-blob->lamini) (1.16.0)\n",
      "Requirement already satisfied: pycparser in c:\\users\\admin\\anaconda3\\lib\\site-packages (from cffi>=1.12->cryptography>=2.1.4->azure-storage-blob->lamini) (2.21)\n",
      "Downloading lamini-3.0.5-7-py3-none-any.whl (682 kB)\n",
      "   ---------------------------------------- 0.0/682.2 kB ? eta -:--:--\n",
      "   ---------------- ----------------------- 276.5/682.2 kB 5.7 MB/s eta 0:00:01\n",
      "   -------------------------------- ------- 553.0/682.2 kB 4.9 MB/s eta 0:00:01\n",
      "   ---------------------------------------  675.8/682.2 kB 5.3 MB/s eta 0:00:01\n",
      "   ---------------------------------------- 682.2/682.2 kB 4.8 MB/s eta 0:00:00\n",
      "Downloading azure_storage_blob-12.22.0-py3-none-any.whl (404 kB)\n",
      "   ---------------------------------------- 0.0/404.9 kB ? eta -:--:--\n",
      "   ------------ --------------------------- 122.9/404.9 kB 3.5 MB/s eta 0:00:01\n",
      "   ---------------------------------------  399.4/404.9 kB 5.0 MB/s eta 0:00:01\n",
      "   ---------------------------------------- 404.9/404.9 kB 4.2 MB/s eta 0:00:00\n",
      "Downloading jsonlines-4.0.0-py3-none-any.whl (8.7 kB)\n",
      "Downloading azure_core-1.30.2-py3-none-any.whl (194 kB)\n",
      "   ---------------------------------------- 0.0/194.3 kB ? eta -:--:--\n",
      "   ---------------------------------------- 194.3/194.3 kB 5.9 MB/s eta 0:00:00\n",
      "Downloading isodate-0.6.1-py2.py3-none-any.whl (41 kB)\n",
      "   ---------------------------------------- 0.0/41.7 kB ? eta -:--:--\n",
      "   ---------------------------------------  41.0/41.7 kB 2.0 MB/s eta 0:00:01\n",
      "   ---------------------------------------- 41.7/41.7 kB 669.8 kB/s eta 0:00:00\n",
      "Downloading lamini_configuration-0.8.3-py3-none-any.whl (22 kB)\n",
      "Installing collected packages: lamini-configuration, jsonlines, isodate, azure-core, azure-storage-blob, lamini\n",
      "Successfully installed azure-core-1.30.2 azure-storage-blob-12.22.0 isodate-0.6.1 jsonlines-4.0.0 lamini-3.0.5 lamini-configuration-0.8.3\n"
     ]
    }
   ],
   "source": [
    "!pip install lamini"
   ]
  },
  {
   "cell_type": "code",
   "execution_count": 21,
   "id": "4837745d-7b47-45d1-a627-8c783d026364",
   "metadata": {
    "height": 30
   },
   "outputs": [],
   "source": [
    "import lamini"
   ]
  },
  {
   "cell_type": "code",
   "execution_count": 23,
   "id": "360b4c80-1b67-403f-94b5-b1554d1144f9",
   "metadata": {
    "height": 30
   },
   "outputs": [],
   "source": [
    "llm = lamini.Lamini(model_name=\"meta-llama/Meta-Llama-3-8B-Instruct\")"
   ]
  },
  {
   "cell_type": "code",
   "execution_count": 25,
   "id": "fadcb120-506b-4665-81a8-fff99927b653",
   "metadata": {
    "height": 166
   },
   "outputs": [],
   "source": [
    "prompt = \"\"\"\\\n",
    "<|begin_of_text|><|start_header_id|>system<|end_header_id|>\n",
    "\n",
    "You are a helpful assistant.<|eot_id|><|start_header_id|>user<|end_header_id|>\n",
    "\n",
    "Please write a birthday card for my good friend Andrew\\\n",
    "<|eot_id|><|start_header_id|>assistant<|end_header_id|>\n",
    "\n",
    "\"\"\""
   ]
  },
  {
   "cell_type": "code",
   "execution_count": 27,
   "id": "717c7346-6e47-47ba-ab39-83af6483f55b",
   "metadata": {
    "height": 47
   },
   "outputs": [
    {
     "ename": "AuthenticationError",
     "evalue": "Missing API Key",
     "output_type": "error",
     "traceback": [
      "\u001b[1;31m---------------------------------------------------------------------------\u001b[0m",
      "\u001b[1;31mTypeError\u001b[0m                                 Traceback (most recent call last)",
      "File \u001b[1;32m~\\anaconda3\\Lib\\site-packages\\lamini\\api\\rest_requests.py:138\u001b[0m, in \u001b[0;36mmake_web_request\u001b[1;34m(key, url, http_method, json)\u001b[0m\n\u001b[0;32m    135\u001b[0m \u001b[38;5;28;01mtry\u001b[39;00m:\n\u001b[0;32m    136\u001b[0m     headers \u001b[38;5;241m=\u001b[39m {\n\u001b[0;32m    137\u001b[0m         \u001b[38;5;124m\"\u001b[39m\u001b[38;5;124mContent-Type\u001b[39m\u001b[38;5;124m\"\u001b[39m: \u001b[38;5;124m\"\u001b[39m\u001b[38;5;124mapplication/json\u001b[39m\u001b[38;5;124m\"\u001b[39m,\n\u001b[1;32m--> 138\u001b[0m         \u001b[38;5;124m\"\u001b[39m\u001b[38;5;124mAuthorization\u001b[39m\u001b[38;5;124m\"\u001b[39m: \u001b[38;5;124m\"\u001b[39m\u001b[38;5;124mBearer \u001b[39m\u001b[38;5;124m\"\u001b[39m \u001b[38;5;241m+\u001b[39m key,\n\u001b[0;32m    139\u001b[0m     }\n\u001b[0;32m    140\u001b[0m \u001b[38;5;28;01mexcept\u001b[39;00m:\n",
      "\u001b[1;31mTypeError\u001b[0m: can only concatenate str (not \"NoneType\") to str",
      "\nDuring handling of the above exception, another exception occurred:\n",
      "\u001b[1;31mAuthenticationError\u001b[0m                       Traceback (most recent call last)",
      "Cell \u001b[1;32mIn[27], line 1\u001b[0m\n\u001b[1;32m----> 1\u001b[0m result \u001b[38;5;241m=\u001b[39m llm\u001b[38;5;241m.\u001b[39mgenerate(prompt, max_new_tokens\u001b[38;5;241m=\u001b[39m\u001b[38;5;241m200\u001b[39m)\n\u001b[0;32m      2\u001b[0m \u001b[38;5;28mprint\u001b[39m(result)\n",
      "File \u001b[1;32m~\\anaconda3\\Lib\\site-packages\\lamini\\api\\lamini.py:50\u001b[0m, in \u001b[0;36mLamini.generate\u001b[1;34m(self, prompt, model_name, output_type, max_tokens, max_new_tokens)\u001b[0m\n\u001b[0;32m     48\u001b[0m result \u001b[38;5;241m=\u001b[39m \u001b[38;5;28;01mNone\u001b[39;00m\n\u001b[0;32m     49\u001b[0m \u001b[38;5;28;01mtry\u001b[39;00m:\n\u001b[1;32m---> 50\u001b[0m     result \u001b[38;5;241m=\u001b[39m \u001b[38;5;28mself\u001b[39m\u001b[38;5;241m.\u001b[39mcompletion\u001b[38;5;241m.\u001b[39mgenerate(\n\u001b[0;32m     51\u001b[0m         prompt\u001b[38;5;241m=\u001b[39mprompt,\n\u001b[0;32m     52\u001b[0m         model_name\u001b[38;5;241m=\u001b[39mmodel_name \u001b[38;5;129;01mor\u001b[39;00m \u001b[38;5;28mself\u001b[39m\u001b[38;5;241m.\u001b[39mmodel_name,\n\u001b[0;32m     53\u001b[0m         output_type\u001b[38;5;241m=\u001b[39moutput_type,\n\u001b[0;32m     54\u001b[0m         max_tokens\u001b[38;5;241m=\u001b[39mmax_tokens,\n\u001b[0;32m     55\u001b[0m         max_new_tokens\u001b[38;5;241m=\u001b[39mmax_new_tokens,\n\u001b[0;32m     56\u001b[0m     )\n\u001b[0;32m     57\u001b[0m \u001b[38;5;28;01mexcept\u001b[39;00m DownloadingModelError \u001b[38;5;28;01mas\u001b[39;00m e:\n\u001b[0;32m     58\u001b[0m     \u001b[38;5;28;01mreturn\u001b[39;00m e\n",
      "File \u001b[1;32m~\\anaconda3\\Lib\\site-packages\\lamini\\api\\utils\\completion.py:98\u001b[0m, in \u001b[0;36mCompletion.generate\u001b[1;34m(self, prompt, model_name, output_type, max_tokens, max_new_tokens)\u001b[0m\n\u001b[0;32m     65\u001b[0m \u001b[38;5;250m\u001b[39m\u001b[38;5;124;03m\"\"\"Handles construction of the POST request headers and body, then \u001b[39;00m\n\u001b[0;32m     66\u001b[0m \u001b[38;5;124;03ma web request is made with the response returned.\u001b[39;00m\n\u001b[0;32m     67\u001b[0m \n\u001b[1;32m   (...)\u001b[0m\n\u001b[0;32m     88\u001b[0m \u001b[38;5;124;03m    Json data returned from POST request\u001b[39;00m\n\u001b[0;32m     89\u001b[0m \u001b[38;5;124;03m\"\"\"\u001b[39;00m\n\u001b[0;32m     91\u001b[0m req_data \u001b[38;5;241m=\u001b[39m \u001b[38;5;28mself\u001b[39m\u001b[38;5;241m.\u001b[39mmake_llm_req_map(\n\u001b[0;32m     92\u001b[0m     prompt\u001b[38;5;241m=\u001b[39mprompt,\n\u001b[0;32m     93\u001b[0m     model_name\u001b[38;5;241m=\u001b[39mmodel_name,\n\u001b[1;32m   (...)\u001b[0m\n\u001b[0;32m     96\u001b[0m     max_new_tokens\u001b[38;5;241m=\u001b[39mmax_new_tokens,\n\u001b[0;32m     97\u001b[0m )\n\u001b[1;32m---> 98\u001b[0m resp \u001b[38;5;241m=\u001b[39m make_web_request(\n\u001b[0;32m     99\u001b[0m     \u001b[38;5;28mself\u001b[39m\u001b[38;5;241m.\u001b[39mapi_key, \u001b[38;5;28mself\u001b[39m\u001b[38;5;241m.\u001b[39mapi_prefix \u001b[38;5;241m+\u001b[39m \u001b[38;5;124m\"\u001b[39m\u001b[38;5;124mcompletions\u001b[39m\u001b[38;5;124m\"\u001b[39m, \u001b[38;5;124m\"\u001b[39m\u001b[38;5;124mpost\u001b[39m\u001b[38;5;124m\"\u001b[39m, req_data\n\u001b[0;32m    100\u001b[0m )\n\u001b[0;32m    101\u001b[0m \u001b[38;5;28;01mreturn\u001b[39;00m resp\n",
      "File \u001b[1;32m~\\anaconda3\\Lib\\site-packages\\lamini\\api\\rest_requests.py:141\u001b[0m, in \u001b[0;36mmake_web_request\u001b[1;34m(key, url, http_method, json)\u001b[0m\n\u001b[0;32m    136\u001b[0m     headers \u001b[38;5;241m=\u001b[39m {\n\u001b[0;32m    137\u001b[0m         \u001b[38;5;124m\"\u001b[39m\u001b[38;5;124mContent-Type\u001b[39m\u001b[38;5;124m\"\u001b[39m: \u001b[38;5;124m\"\u001b[39m\u001b[38;5;124mapplication/json\u001b[39m\u001b[38;5;124m\"\u001b[39m,\n\u001b[0;32m    138\u001b[0m         \u001b[38;5;124m\"\u001b[39m\u001b[38;5;124mAuthorization\u001b[39m\u001b[38;5;124m\"\u001b[39m: \u001b[38;5;124m\"\u001b[39m\u001b[38;5;124mBearer \u001b[39m\u001b[38;5;124m\"\u001b[39m \u001b[38;5;241m+\u001b[39m key,\n\u001b[0;32m    139\u001b[0m     }\n\u001b[0;32m    140\u001b[0m \u001b[38;5;28;01mexcept\u001b[39;00m:\n\u001b[1;32m--> 141\u001b[0m     \u001b[38;5;28;01mraise\u001b[39;00m AuthenticationError(\u001b[38;5;124m\"\u001b[39m\u001b[38;5;124mMissing API Key\u001b[39m\u001b[38;5;124m\"\u001b[39m)\n\u001b[0;32m    142\u001b[0m \u001b[38;5;28;01mtry\u001b[39;00m:\n\u001b[0;32m    143\u001b[0m     version \u001b[38;5;241m=\u001b[39m importlib\u001b[38;5;241m.\u001b[39mmetadata\u001b[38;5;241m.\u001b[39mversion(\u001b[38;5;124m\"\u001b[39m\u001b[38;5;124mlamini\u001b[39m\u001b[38;5;124m\"\u001b[39m)\n",
      "\u001b[1;31mAuthenticationError\u001b[0m: Missing API Key"
     ]
    }
   ],
   "source": [
    "result = llm.generate(prompt, max_new_tokens=200)\n",
    "print(result)"
   ]
  },
  {
   "cell_type": "code",
   "execution_count": null,
   "id": "d9f05bb6-d7d6-4146-a4e0-1dab3aacffe8",
   "metadata": {
    "height": 200
   },
   "outputs": [],
   "source": [
    "prompt2 = ( \n",
    "    \"<|begin_of_text|>\"  # Start of prompt\n",
    "    \"<|start_header_id|>system<|end_header_id|>\\n\\n\"  #  header - system\n",
    "    \"You are a helpful assistant.\"  # system prompt\n",
    "    \"<|eot_id|>\" # end of turn\n",
    "    \"<|start_header_id|>user<|end_header_id|>\\n\\n\" # header - user\n",
    "    \"Please write a birthday card for my good friend Andrew\" \n",
    "    \"<|eot_id|>\" # end of turn\n",
    "    \"<|start_header_id|>assistant<|end_header_id|>\\n\\n\" # header - assistant\n",
    "    )\n",
    "print(prompt2)"
   ]
  },
  {
   "cell_type": "code",
   "execution_count": null,
   "id": "023d6bf6-4134-4ba3-b26c-11d00af44406",
   "metadata": {
    "height": 30
   },
   "outputs": [],
   "source": [
    "prompt == prompt2"
   ]
  },
  {
   "cell_type": "code",
   "execution_count": null,
   "id": "8a7bccb9-6bd1-4b58-96a6-23b413d05146",
   "metadata": {
    "height": 251
   },
   "outputs": [],
   "source": [
    "def make_llama_3_prompt(user, system=\"\"):\n",
    "    system_prompt = \"\"\n",
    "    if system != \"\":\n",
    "        system_prompt = (\n",
    "            f\"<|start_header_id|>system<|end_header_id|>\\n\\n{system}\"\n",
    "            f\"<|eot_id|>\"\n",
    "        )\n",
    "    prompt = (f\"<|begin_of_text|>{system_prompt}\"\n",
    "              f\"<|start_header_id|>user<|end_header_id|>\\n\\n\"\n",
    "              f\"{user}\"\n",
    "              f\"<|eot_id|>\"\n",
    "              f\"<|start_header_id|>assistant<|end_header_id|>\\n\\n\"\n",
    "         )\n",
    "    return prompt    "
   ]
  },
  {
   "cell_type": "code",
   "execution_count": null,
   "id": "290c5279-0a65-48ab-bf37-6bda9d6727b6",
   "metadata": {
    "height": 81
   },
   "outputs": [],
   "source": [
    "system_prompt = user_prompt = \"You are a helpful assistant.\"\n",
    "user_prompt = \"Please write a birthday card for my good friend Andrew\"\n",
    "prompt3 = make_llama_3_prompt(user_prompt, system_prompt)\n",
    "print(prompt3)"
   ]
  },
  {
   "cell_type": "code",
   "execution_count": null,
   "id": "84ebe3ca-809a-4340-80e6-470b8601cb32",
   "metadata": {
    "height": 30
   },
   "outputs": [],
   "source": [
    "prompt == prompt3"
   ]
  },
  {
   "cell_type": "code",
   "execution_count": null,
   "id": "41a0cb0a-aa99-493c-9bde-f9776cbeae56",
   "metadata": {
    "height": 64
   },
   "outputs": [],
   "source": [
    "user_prompt = \"Tell me a joke about birthday cake\"\n",
    "prompt = make_llama_3_prompt(user_prompt)\n",
    "print(prompt)"
   ]
  },
  {
   "cell_type": "code",
   "execution_count": null,
   "id": "029d2013-60fe-4a26-82b7-2ff067fd3906",
   "metadata": {
    "height": 47
   },
   "outputs": [],
   "source": [
    "result = llm.generate(prompt, max_new_tokens=200)\n",
    "print(result)"
   ]
  },
  {
   "cell_type": "markdown",
   "id": "6b9ae62e-17dd-42ae-9596-3dc511dd46df",
   "metadata": {},
   "source": [
    "#### Try some prompts of your own!"
   ]
  },
  {
   "cell_type": "code",
   "execution_count": null,
   "id": "1b26232c-3496-4070-beb9-798af78b2d1f",
   "metadata": {
    "height": 30
   },
   "outputs": [],
   "source": []
  },
  {
   "cell_type": "markdown",
   "id": "41f61330-571b-403f-8d01-0c58d53d972d",
   "metadata": {},
   "source": [
    "## Llama 3 can generate SQL"
   ]
  },
  {
   "cell_type": "code",
   "execution_count": null,
   "id": "5c953f69-59cc-4794-a0b5-bc686ccf7c7d",
   "metadata": {
    "height": 115
   },
   "outputs": [],
   "source": [
    "question = (\n",
    "    \"Given an arbitrary table named `sql_table`, \"\n",
    "    \"write a query to return how many rows are in the table.\" \n",
    "    )\n",
    "prompt = make_llama_3_prompt(question)\n",
    "print(llm.generate(prompt, max_new_tokens=200))"
   ]
  },
  {
   "cell_type": "code",
   "execution_count": null,
   "id": "83aec892-f0bc-46cb-9f73-098b98ecaa66",
   "metadata": {
    "height": 81
   },
   "outputs": [],
   "source": [
    "question = \"\"\"Given an arbitrary table named `sql_table`, \n",
    "help me calculate the average `height` where `age` is above 20.\"\"\"\n",
    "prompt = make_llama_3_prompt(question)\n",
    "print(llm.generate(prompt, max_new_tokens=200))"
   ]
  },
  {
   "cell_type": "code",
   "execution_count": null,
   "id": "55b192d2-0751-453b-9ae7-56e044605997",
   "metadata": {
    "height": 81
   },
   "outputs": [],
   "source": [
    "question = \"\"\"Given an arbitrary table named `sql_table`, \n",
    "Can you calculate the p95 `height` where the `age` is above 20?\"\"\"\n",
    "prompt = make_llama_3_prompt(question)\n",
    "print(llm.generate(prompt, max_new_tokens=200))"
   ]
  },
  {
   "cell_type": "code",
   "execution_count": null,
   "id": "ab0b93df-affc-4c43-a62b-7824d73e3dfb",
   "metadata": {
    "height": 115
   },
   "outputs": [],
   "source": [
    "question = (\"Given an arbitrary table named `sql_table`, \"\n",
    "            \"Can you calculate the p95 `height` \"\n",
    "            \"where the `age` is above 20? Use sqlite.\")\n",
    "prompt = make_llama_3_prompt(question)\n",
    "\n",
    "print(llm.generate(prompt, max_new_tokens=200))"
   ]
  },
  {
   "cell_type": "markdown",
   "id": "786e5a7c-213c-46b5-afb7-f7036a6ce0b3",
   "metadata": {},
   "source": [
    "#### Try some questions of your own!"
   ]
  },
  {
   "cell_type": "code",
   "execution_count": null,
   "id": "f6183126-10f2-4f8c-ad94-a6dc0db4d721",
   "metadata": {
    "height": 30
   },
   "outputs": [],
   "source": []
  }
 ],
 "metadata": {
  "kernelspec": {
   "display_name": "Python 3 (ipykernel)",
   "language": "python",
   "name": "python3"
  },
  "language_info": {
   "codemirror_mode": {
    "name": "ipython",
    "version": 3
   },
   "file_extension": ".py",
   "mimetype": "text/x-python",
   "name": "python",
   "nbconvert_exporter": "python",
   "pygments_lexer": "ipython3",
   "version": "3.12.3"
  }
 },
 "nbformat": 4,
 "nbformat_minor": 5
}
